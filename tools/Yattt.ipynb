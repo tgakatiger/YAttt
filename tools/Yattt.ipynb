{
 "cells": [
  {
   "cell_type": "code",
   "execution_count": 41,
   "metadata": {},
   "outputs": [
    {
     "name": "stdout",
     "output_type": "stream",
     "text": [
      "c\t->\t199554\n",
      "js\t->\t199165\n",
      "node\t->\t200283\n",
      "python\t->\t200653\t!!!\n",
      "ruby\t->\t200345\n"
     ]
    }
   ],
   "source": [
    "# Попытка решить проблему выбора языка программирования\n",
    "# Выполнять скрипт до получения желаемого результата\n",
    "\n",
    "import random, collections\n",
    "langs = 'ruby js node c python'.split()\n",
    "\n",
    "choices = [random.choice(langs) for _ in range(1000000)]\n",
    "collect = collections.Counter(choices)\n",
    "\n",
    "for k in sorted(collect):\n",
    "    print('{}\\t->\\t{}'.format(k, collect[k]), end='')\n",
    "    if collect[k] == max(collect.values()):\n",
    "        print('\\t{}'.format('!'*3), end='')\n",
    "    print()"
   ]
  },
  {
   "cell_type": "code",
   "execution_count": 21,
   "metadata": {},
   "outputs": [
    {
     "name": "stdout",
     "output_type": "stream",
     "text": [
      "ruby\n"
     ]
    }
   ],
   "source": [
    "# Чем же верхний вариант лучше вот этого?\n",
    "\n",
    "import random\n",
    "print(random.choice('ruby js node c'.split()))\n",
    "\n",
    "# Так то, конечно, ничем, но там мы делаем выборку, и смотрим распределение.\n",
    "# Нельзя назвать эти результаты объективными, зато есть хоть какие то результаты.\n",
    "# Если есть другие предложения - предлагайте."
   ]
  },
  {
   "cell_type": "code",
   "execution_count": 14,
   "metadata": {},
   "outputs": [
    {
     "name": "stdout",
     "output_type": "stream",
     "text": [
      "ruby\n"
     ]
    }
   ],
   "source": [
    "# Однорукий бандит\n",
    "# Те же яйца, только сбоку.\n",
    "\n",
    "import random, collections\n",
    "langs = 'ruby js node c python'.split()\n",
    "\n",
    "choices = [random.choice(langs) for _ in range(3)]\n",
    "if choices[1] == choices[2] == choices[0]:\n",
    "    print(choices[0])\n",
    "else:\n",
    "    print('Can\\'t choice')"
   ]
  },
  {
   "cell_type": "code",
   "execution_count": 39,
   "metadata": {},
   "outputs": [
    {
     "name": "stdout",
     "output_type": "stream",
     "text": [
      "          ......... \r"
     ]
    }
   ],
   "source": [
    "# Одномерная проползающая змейка\n",
    "# Почему циклы не симетричны? Да хз, но иначе не работает.\n",
    "\n",
    "import time, threading\n",
    "\n",
    "def snake(length, speed):\n",
    "    for i in range(length):\n",
    "        print('.'*i, end='')\n",
    "        time.sleep(speed)\n",
    "        print('\\r', end='')\n",
    "    for i in range(length):\n",
    "        print(' '*i, end='\\r')\n",
    "        time.sleep(speed)\n",
    "\n",
    "threading.Thread(target=snake, args=(20, 0.3)).start()"
   ]
  },
  {
   "cell_type": "code",
   "execution_count": 328,
   "metadata": {},
   "outputs": [
    {
     "name": "stdout",
     "output_type": "stream",
     "text": [
      "? 4\n",
      "^_^\n"
     ]
    }
   ],
   "source": [
    "#### Один из 25\n",
    "\n",
    "import random, collections\n",
    "\n",
    "seq = [0 for _ in range(24)]\n",
    "seq.append(1)\n",
    "random.shuffle(seq)\n",
    "\n",
    "# Сложно пройти? Раскомментируй\n",
    "# print([i for i in range(25)])\n",
    "# print(seq)\n",
    "\n",
    "inp = int(input('? '))\n",
    "if seq[inp%len(seq)] == 1:\n",
    "    print('^_^')\n",
    "else:\n",
    "    print('(.)')"
   ]
  }
 ],
 "metadata": {
  "kernelspec": {
   "display_name": "Python 3",
   "language": "python",
   "name": "python3"
  },
  "language_info": {
   "codemirror_mode": {
    "name": "ipython",
    "version": 3
   },
   "file_extension": ".py",
   "mimetype": "text/x-python",
   "name": "python",
   "nbconvert_exporter": "python",
   "pygments_lexer": "ipython3",
   "version": "3.6.1"
  }
 },
 "nbformat": 4,
 "nbformat_minor": 2
}
