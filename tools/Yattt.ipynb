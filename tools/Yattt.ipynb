{
 "cells": [
  {
   "cell_type": "code",
   "execution_count": 94,
   "metadata": {},
   "outputs": [
    {
     "name": "stdout",
     "output_type": "stream",
     "text": [
      "c\t->\t250618\t!!!\n",
      "js\t->\t249290\n",
      "node\t->\t250284\n",
      "ruby\t->\t249808\n"
     ]
    }
   ],
   "source": [
    "import random, collections\n",
    "langs = 'ruby js node c'.split()\n",
    "\n",
    "choices = [random.choice(langs) for _ in range(1000000)]\n",
    "collect = collections.Counter(choices)\n",
    "\n",
    "for k in sorted(collect):\n",
    "    print('{}\\t->\\t{}'.format(k, collect[k]), end='')\n",
    "    if collect[k] == max(collect.values()):\n",
    "        print('\\t{}'.format('!'*3), end='')\n",
    "    print()"
   ]
  }
 ],
 "metadata": {
  "kernelspec": {
   "display_name": "Python 3",
   "language": "python",
   "name": "python3"
  },
  "language_info": {
   "codemirror_mode": {
    "name": "ipython",
    "version": 3
   },
   "file_extension": ".py",
   "mimetype": "text/x-python",
   "name": "python",
   "nbconvert_exporter": "python",
   "pygments_lexer": "ipython3",
   "version": "3.6.0"
  }
 },
 "nbformat": 4,
 "nbformat_minor": 2
}
